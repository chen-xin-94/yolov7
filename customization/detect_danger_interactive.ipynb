{
 "cells": [
  {
   "cell_type": "markdown",
   "metadata": {},
   "source": [
    "# Detect with Interactively Defined Danger Zone"
   ]
  },
  {
   "cell_type": "markdown",
   "metadata": {},
   "source": [
    " ## Prerequisites "
   ]
  },
  {
   "cell_type": "code",
   "execution_count": 1,
   "metadata": {},
   "outputs": [],
   "source": [
    "# !conda install jupyter\n",
    "# !conda install ipywidges\n",
    "# !jupyter nbextension enable --py --sys-prefix widgetsnbextension"
   ]
  },
  {
   "cell_type": "markdown",
   "metadata": {},
   "source": [
    "## Import"
   ]
  },
  {
   "cell_type": "code",
   "execution_count": 1,
   "metadata": {},
   "outputs": [],
   "source": [
    "import ipywidgets as widgets\n",
    "from ipywidgets import HBox, VBox, interact,interactive, fixed\n",
    "import numpy as np\n",
    "import matplotlib.pyplot as plt\n",
    "import matplotlib.patches as patches\n",
    "from IPython.display import display\n",
    "import cv2\n",
    "from detect_danger import detect_interactive,plot_danger_zone, get_danger_zone\n",
    "import torch\n",
    "from IPython.display import clear_output\n",
    "import argparse\n",
    "%matplotlib inline"
   ]
  },
  {
   "cell_type": "markdown",
   "metadata": {},
   "source": [
    "## Version 1: Interaction with Cells"
   ]
  },
  {
   "cell_type": "code",
   "execution_count": 2,
   "metadata": {},
   "outputs": [],
   "source": [
    "# define four sliders for the coordinates of the top-left and bottom-right corners of the rectangle danger zone\n",
    "x0_slider = widgets.FloatSlider(\n",
    "    value=0.1,\n",
    "    min=0,\n",
    "    max=1,\n",
    "    step=0.1,\n",
    "    description=\"x_tl:\",\n",
    "    readout_format=\".1f\",\n",
    ")\n",
    "y0_slider = widgets.FloatSlider(\n",
    "    value=0.5,\n",
    "    min=0,\n",
    "    max=1,\n",
    "    step=0.1,\n",
    "    description=\"y_tl:\",\n",
    "    readout_format=\".1f\",\n",
    "#     orientation='vertical',\n",
    ")\n",
    "x1_slider = widgets.FloatSlider(\n",
    "    value=0.9,\n",
    "    min=0,\n",
    "    max=1,\n",
    "    step=0.1,\n",
    "    description=\"x_br:\",\n",
    "    readout_format=\".1f\",\n",
    ")\n",
    "y1_slider = widgets.FloatSlider(\n",
    "    value=1,\n",
    "    min=0,\n",
    "    max=1,\n",
    "    step=0.1,\n",
    "    description=\"y_br:\",\n",
    "    readout_format=\".1f\",\n",
    "#     orientation='vertical',\n",
    ")"
   ]
  },
  {
   "cell_type": "code",
   "execution_count": 3,
   "metadata": {},
   "outputs": [
    {
     "data": {
      "text/plain": [
       "_StoreTrueAction(option_strings=['--no-trace'], dest='no_trace', nargs=0, const=True, default=False, type=None, choices=None, help='don`t trace model', metavar=None)"
      ]
     },
     "execution_count": 3,
     "metadata": {},
     "output_type": "execute_result"
    }
   ],
   "source": [
    "# parser\n",
    "parser = argparse.ArgumentParser()\n",
    "parser.add_argument('--danger-zone', default=[0.25, 0.66, 0.75, 1], type=float, nargs='+', help='danger zone coordinates, top-left xy and bottom-right xy')\n",
    "parser.add_argument('--weights', nargs='+', type=str, default='yolov7.pt', help='model.pt path(s)')\n",
    "parser.add_argument('--source', type=str, default='inference/images', help='source')  # file/folder, 0 for webcam\n",
    "parser.add_argument('--img-size', type=int, default=640, help='inference size (pixels)')\n",
    "parser.add_argument('--conf-thres', type=float, default=0.25, help='object confidence threshold')\n",
    "parser.add_argument('--iou-thres', type=float, default=0.45, help='IOU threshold for NMS')\n",
    "parser.add_argument('--device', default='', help='cuda device, i.e. 0 or 0,1,2,3 or cpu')\n",
    "parser.add_argument('--view-img', action='store_true', help='display results')\n",
    "parser.add_argument('--save-txt', action='store_true', help='save results to *.txt')\n",
    "parser.add_argument('--save-conf', action='store_true', help='save confidences in --save-txt labels')\n",
    "parser.add_argument('--nosave', action='store_true', help='do not save images/videos')\n",
    "parser.add_argument('--classes', nargs='+', type=int, help='filter by class: --class 0, or --class 0 2 3')\n",
    "parser.add_argument('--agnostic-nms', action='store_true', help='class-agnostic NMS')\n",
    "parser.add_argument('--augment', action='store_true', help='augmented inference')\n",
    "parser.add_argument('--update', action='store_true', help='update all models')\n",
    "parser.add_argument('--project', default='runs/detect', help='save results to project/name')\n",
    "parser.add_argument('--name', default='exp', help='save results to project/name')\n",
    "parser.add_argument('--exist-ok', action='store_true', help='existing project/name ok, do not increment')\n",
    "parser.add_argument('--no-trace', action='store_true', help='don`t trace model')\n",
    "\n"
   ]
  },
  {
   "cell_type": "code",
   "execution_count": 4,
   "metadata": {},
   "outputs": [],
   "source": [
    "# define the danger zone\n",
    "def p(x0,x1,y0,y1,h,w):\n",
    "    img = np.zeros((h,w,3), np.uint8)\n",
    "    danger_zone = [x0,y0, x1, y1]\n",
    "    xyxy = get_danger_zone(img,danger_zone)\n",
    "    img = plot_danger_zone(img,xyxy)\n",
    "    plt.imshow(cv2.cvtColor(img, cv2.COLOR_BGR2RGB))"
   ]
  },
  {
   "cell_type": "code",
   "execution_count": 5,
   "metadata": {
    "scrolled": false
   },
   "outputs": [
    {
     "data": {
      "application/vnd.jupyter.widget-view+json": {
       "model_id": "840c9b8bda1c4ecdbdc8265209844523",
       "version_major": 2,
       "version_minor": 0
      },
      "text/plain": [
       "interactive(children=(FloatSlider(value=0.1, description='x_tl:', max=1.0, readout_format='.1f'), FloatSlider(…"
      ]
     },
     "metadata": {},
     "output_type": "display_data"
    },
    {
     "data": {
      "text/plain": [
       "<function __main__.p(x0, x1, y0, y1, h, w)>"
      ]
     },
     "execution_count": 5,
     "metadata": {},
     "output_type": "execute_result"
    }
   ],
   "source": [
    "# image size\n",
    "height = 768\n",
    "width = 1024\n",
    "\n",
    "# start the interactive session to define the danger zone\n",
    "interact(p,x0=x0_slider,x1=x1_slider,y0=y0_slider,y1=y1_slider,h=fixed(height),w=fixed(width))"
   ]
  },
  {
   "cell_type": "code",
   "execution_count": 7,
   "metadata": {},
   "outputs": [
    {
     "name": "stderr",
     "output_type": "stream",
     "text": [
      "YOLOR  2022-9-16 torch 1.12.1 CUDA:0 (NVIDIA GeForce RTX 2060 with Max-Q Design, 6143.6875MB)\n",
      "\n"
     ]
    },
    {
     "name": "stdout",
     "output_type": "stream",
     "text": [
      "Fusing layers... \n",
      "RepConv.fuse_repvgg_block\n",
      "RepConv.fuse_repvgg_block\n",
      "RepConv.fuse_repvgg_block\n"
     ]
    },
    {
     "name": "stderr",
     "output_type": "stream",
     "text": [
      "Model Summary: 306 layers, 36905341 parameters, 6652669 gradients\n"
     ]
    },
    {
     "name": "stdout",
     "output_type": "stream",
     "text": [
      " Convert model to Traced-model... \n",
      " traced_script_module saved! \n",
      " model is traced! \n",
      "\n",
      "1/1: 0...  success (640x480 at 30.00 FPS).\n",
      "\n"
     ]
    },
    {
     "name": "stderr",
     "output_type": "stream",
     "text": [
      "c:\\Users\\xinch\\anaconda3\\envs\\yolov7\\lib\\site-packages\\torch\\functional.py:478: UserWarning: torch.meshgrid: in an upcoming release, it will be required to pass the indexing argument. (Triggered internally at  C:\\cb\\pytorch_1000000000000\\work\\aten\\src\\ATen\\native\\TensorShape.cpp:2895.)\n",
      "  return _VF.meshgrid(tensors, **kwargs)  # type: ignore[attr-defined]\n"
     ]
    },
    {
     "name": "stdout",
     "output_type": "stream",
     "text": [
      "0: 1 person, Done. (19.0ms) Inference, (29.0ms) NMS\n",
      "0: 1 person, Done. (24.0ms) Inference, (3.0ms) NMS\n",
      "0: 1 person, Done. (27.5ms) Inference, (2.0ms) NMS\n",
      "0: 1 person, Done. (17.0ms) Inference, (1.0ms) NMS\n",
      "0: 1 person, Done. (46.3ms) Inference, (4.0ms) NMS\n",
      "0: 1 person, Done. (20.0ms) Inference, (2.0ms) NMS\n",
      "0: 1 person, Done. (23.0ms) Inference, (2.0ms) NMS\n",
      "0: 1 person, Done. (20.0ms) Inference, (3.0ms) NMS\n",
      "0: 1 person, Done. (26.0ms) Inference, (3.0ms) NMS\n",
      "0: 1 person, Done. (21.0ms) Inference, (3.0ms) NMS\n",
      "0: 1 person, Done. (23.0ms) Inference, (3.0ms) NMS\n",
      "0: 1 person, Done. (20.5ms) Inference, (2.0ms) NMS\n",
      "0: 1 person, Done. (19.0ms) Inference, (2.0ms) NMS\n",
      "0: 1 person, Done. (18.6ms) Inference, (2.0ms) NMS\n",
      "0: 1 person, Done. (20.0ms) Inference, (2.0ms) NMS\n",
      "0: 1 person, Done. (18.6ms) Inference, (2.0ms) NMS\n",
      "0: 1 person, Done. (19.0ms) Inference, (2.0ms) NMS\n",
      "0: 1 person, Done. (20.0ms) Inference, (2.0ms) NMS\n",
      "0: 1 person, Done. (23.0ms) Inference, (2.0ms) NMS\n",
      "0: 1 person, Done. (21.0ms) Inference, (2.0ms) NMS\n",
      "0: 1 person, Done. (17.0ms) Inference, (3.0ms) NMS\n",
      "0: 1 person, Done. (19.0ms) Inference, (2.0ms) NMS\n",
      "0: 1 person, Done. (23.6ms) Inference, (2.0ms) NMS\n",
      "0: 1 person, Done. (24.0ms) Inference, (2.0ms) NMS\n",
      "0: 1 person, Done. (24.6ms) Inference, (2.0ms) NMS\n",
      "0: 1 person, Done. (29.0ms) Inference, (2.0ms) NMS\n",
      "0: 1 person, Done. (24.6ms) Inference, (1.0ms) NMS\n",
      "0: 1 person, Done. (18.0ms) Inference, (2.0ms) NMS\n",
      "0: 1 person, Done. (18.1ms) Inference, (1.0ms) NMS\n",
      "0: 1 person, Done. (24.0ms) Inference, (3.0ms) NMS\n",
      "0: 1 person, Done. (23.5ms) Inference, (4.0ms) NMS\n",
      "0: 1 person, Done. (18.0ms) Inference, (2.0ms) NMS\n",
      "0: 1 person, Done. (23.5ms) Inference, (2.0ms) NMS\n",
      "0: 1 person, Done. (22.0ms) Inference, (1.0ms) NMS\n",
      "0: 1 person, Done. (18.0ms) Inference, (1.0ms) NMS\n",
      "0: 1 person, Done. (22.0ms) Inference, (2.0ms) NMS\n",
      "0: 1 person, Done. (19.6ms) Inference, (2.0ms) NMS\n",
      "0: 1 person, Done. (20.0ms) Inference, (1.0ms) NMS\n",
      "0: 1 person, Done. (18.5ms) Inference, (1.0ms) NMS\n",
      "0: 1 person, Done. (18.0ms) Inference, (2.0ms) NMS\n",
      "0: 1 person, Done. (24.0ms) Inference, (2.5ms) NMS\n",
      "0: 1 person, Done. (28.0ms) Inference, (2.0ms) NMS\n",
      "0: 1 person, Done. (23.1ms) Inference, (2.0ms) NMS\n",
      "0: 1 person, Done. (27.0ms) Inference, (3.0ms) NMS\n",
      "0: 1 person, Done. (30.0ms) Inference, (2.0ms) NMS\n",
      "0: 1 person, Done. (22.0ms) Inference, (2.0ms) NMS\n",
      "0: 1 person, Done. (17.0ms) Inference, (2.0ms) NMS\n",
      "0: 1 person, Done. (19.0ms) Inference, (2.0ms) NMS\n",
      "0: 1 person, Done. (17.0ms) Inference, (2.0ms) NMS\n",
      "0: 1 person, Done. (25.0ms) Inference, (3.0ms) NMS\n",
      "0: 1 person, Done. (22.5ms) Inference, (1.0ms) NMS\n",
      "0: 1 person, Done. (20.0ms) Inference, (2.0ms) NMS\n",
      "0: 1 person, Done. (18.1ms) Inference, (2.0ms) NMS\n",
      "0: 1 person, Done. (25.0ms) Inference, (2.0ms) NMS\n",
      "0: 1 person, Done. (19.0ms) Inference, (1.0ms) NMS\n",
      "0: 1 person, Done. (18.0ms) Inference, (2.0ms) NMS\n",
      "0: 1 person, Done. (26.0ms) Inference, (1.5ms) NMS\n",
      "0: 1 person, Done. (37.0ms) Inference, (1.0ms) NMS\n",
      "0: 1 person, Done. (19.4ms) Inference, (2.0ms) NMS\n",
      "0: 1 person, Done. (21.0ms) Inference, (2.0ms) NMS\n",
      "0: 1 person, Done. (25.5ms) Inference, (1.0ms) NMS\n",
      "0: 1 person, Done. (23.0ms) Inference, (2.0ms) NMS\n",
      "0: 1 person, Done. (26.5ms) Inference, (2.0ms) NMS\n",
      "0: 1 person, Done. (20.0ms) Inference, (2.0ms) NMS\n",
      "0: 1 person, Done. (22.0ms) Inference, (1.0ms) NMS\n",
      "0: 1 person, Done. (23.0ms) Inference, (2.0ms) NMS\n",
      "0: 1 person, Done. (23.0ms) Inference, (3.0ms) NMS\n",
      "0: 1 person, Done. (24.0ms) Inference, (2.0ms) NMS\n",
      "0: 1 person, Done. (21.0ms) Inference, (2.0ms) NMS\n",
      "0: 1 person, Done. (28.0ms) Inference, (2.0ms) NMS\n",
      "0: 1 person, Done. (31.5ms) Inference, (5.0ms) NMS\n",
      "0: 1 person, Done. (24.0ms) Inference, (3.0ms) NMS\n",
      "0: 1 person, Done. (18.0ms) Inference, (2.0ms) NMS\n",
      "0: 1 person, Done. (33.0ms) Inference, (4.0ms) NMS\n",
      "0: 1 person, Done. (20.0ms) Inference, (1.0ms) NMS\n",
      "0: 1 person, Done. (19.0ms) Inference, (2.0ms) NMS\n",
      "0: 1 person, Done. (21.0ms) Inference, (2.0ms) NMS\n",
      "0: 1 person, Done. (27.0ms) Inference, (2.0ms) NMS\n",
      "0: 1 person, Done. (20.0ms) Inference, (2.0ms) NMS\n",
      "0: 1 person, Done. (25.0ms) Inference, (2.0ms) NMS\n",
      "0: 1 person, Done. (25.0ms) Inference, (2.0ms) NMS\n",
      "0: 1 person, Done. (28.0ms) Inference, (2.0ms) NMS\n",
      "0: 1 person, Done. (19.0ms) Inference, (2.0ms) NMS\n",
      "0: 1 person, Done. (23.0ms) Inference, (3.0ms) NMS\n",
      "0: 1 person, Done. (18.0ms) Inference, (2.0ms) NMS\n",
      "0: 1 person, Done. (18.0ms) Inference, (2.0ms) NMS\n",
      "0: 1 person, Done. (19.0ms) Inference, (1.0ms) NMS\n",
      "0: 1 person, Done. (19.0ms) Inference, (2.0ms) NMS\n",
      "0: 1 person, Done. (19.0ms) Inference, (2.0ms) NMS\n",
      "0: 1 person, Done. (16.0ms) Inference, (1.0ms) NMS\n",
      "0: 1 person, Done. (15.6ms) Inference, (1.0ms) NMS\n",
      "0: 1 person, Done. (16.0ms) Inference, (2.0ms) NMS\n",
      "0: 1 person, Done. (16.0ms) Inference, (1.0ms) NMS\n",
      "0: 1 person, Done. (17.0ms) Inference, (1.0ms) NMS\n",
      "0: 1 person, Done. (16.0ms) Inference, (1.0ms) NMS\n",
      "0: 1 person, Done. (15.5ms) Inference, (2.0ms) NMS\n",
      "0: 1 person, Done. (16.0ms) Inference, (2.0ms) NMS\n",
      "0: 1 person, Done. (16.0ms) Inference, (2.0ms) NMS\n",
      "0: 1 person, Done. (19.0ms) Inference, (1.0ms) NMS\n",
      "0: 1 person, Done. (17.0ms) Inference, (2.0ms) NMS\n",
      "0: 1 person, Done. (17.0ms) Inference, (1.0ms) NMS\n",
      "0: 1 person, Done. (16.0ms) Inference, (2.0ms) NMS\n",
      "0: 1 person, Done. (16.0ms) Inference, (2.0ms) NMS\n",
      "0: 1 person, Done. (15.5ms) Inference, (2.0ms) NMS\n",
      "0: 1 person, Done. (19.0ms) Inference, (2.0ms) NMS\n",
      "0: 1 person, Done. (17.0ms) Inference, (1.0ms) NMS\n",
      "0: 1 person, Done. (18.1ms) Inference, (2.0ms) NMS\n",
      "0: 1 person, Done. (18.0ms) Inference, (2.0ms) NMS\n",
      "0: 1 person, Done. (18.0ms) Inference, (2.0ms) NMS\n",
      "0: 1 person, Done. (16.5ms) Inference, (1.0ms) NMS\n",
      "0: 1 person, Done. (17.0ms) Inference, (1.0ms) NMS\n",
      "0: 1 person, Done. (17.0ms) Inference, (2.0ms) NMS\n",
      "0: 1 person, Done. (17.0ms) Inference, (1.0ms) NMS\n",
      "Done. (5.701s)\n"
     ]
    }
   ],
   "source": [
    "# start detection with the chosen danger zone (press q to exit)\n",
    "opt = parser.parse_args(\n",
    "    \"--weights pretrained/yolov7.pt --conf 0.3 --img-size 640 --source 0 --nosave --class 0\".split()\n",
    ")\n",
    "opt.danger_zone = [x0_slider.value,y0_slider.value, x1_slider.value, y1_slider.value]\n",
    "with torch.no_grad():\n",
    "    detect_interactive(opt)"
   ]
  },
  {
   "cell_type": "code",
   "execution_count": null,
   "metadata": {},
   "outputs": [],
   "source": []
  },
  {
   "cell_type": "markdown",
   "metadata": {},
   "source": [
    "## Version 2: Interaction with Cells and Buttons"
   ]
  },
  {
   "cell_type": "code",
   "execution_count": 13,
   "metadata": {},
   "outputs": [],
   "source": [
    "# detect button\n",
    "button = widgets.Button(\n",
    "    description='Detect',\n",
    ")\n",
    "@button.on_click\n",
    "def plot_on_click(b):\n",
    "    opt.danger_zone = [x0_slider.value,y0_slider.value, x1_slider.value, y1_slider.value]\n",
    "    with torch.no_grad():\n",
    "        detect_interactive(opt)"
   ]
  },
  {
   "cell_type": "code",
   "execution_count": 14,
   "metadata": {},
   "outputs": [],
   "source": [
    "# rectangle button\n",
    "button2 = widgets.Button(\n",
    "    description='Rectangle',\n",
    ")\n",
    "\n",
    "# image size\n",
    "height = 768\n",
    "width = 1024\n",
    "\n",
    "@button2.on_click\n",
    "def plot_on_click(b,w=width,h=height):\n",
    "    img = np.zeros((h,w,3), np.uint8)\n",
    "    danger_zone = [x0_slider.value,y0_slider.value, x1_slider.value, y1_slider.value]\n",
    "    xyxy = get_danger_zone(img,danger_zone)\n",
    "    img = plot_danger_zone(img,xyxy)\n",
    "    cv2.imshow('Rectangle',img)\n",
    "    cv2.waitKey(0)"
   ]
  },
  {
   "cell_type": "code",
   "execution_count": 15,
   "metadata": {
    "scrolled": false
   },
   "outputs": [
    {
     "data": {
      "application/vnd.jupyter.widget-view+json": {
       "model_id": "4b66dcc7a1a3478ea7133f3100041b2a",
       "version_major": 2,
       "version_minor": 0
      },
      "text/plain": [
       "VBox(children=(FloatSlider(value=0.1, description='x_tl:', max=1.0, readout_format='.1f'), FloatSlider(value=0…"
      ]
     },
     "execution_count": 15,
     "metadata": {},
     "output_type": "execute_result"
    },
    {
     "name": "stderr",
     "output_type": "stream",
     "text": [
      "YOLOR  2022-9-16 torch 1.12.1 CUDA:0 (NVIDIA GeForce RTX 2060 with Max-Q Design, 6143.6875MB)\n",
      "\n"
     ]
    },
    {
     "name": "stdout",
     "output_type": "stream",
     "text": [
      "Fusing layers... \n"
     ]
    },
    {
     "name": "stderr",
     "output_type": "stream",
     "text": [
      "Model Summary: 306 layers, 36905341 parameters, 6652669 gradients\n"
     ]
    },
    {
     "name": "stdout",
     "output_type": "stream",
     "text": [
      "RepConv.fuse_repvgg_block\n",
      "RepConv.fuse_repvgg_block\n",
      "RepConv.fuse_repvgg_block\n",
      " Convert model to Traced-model... \n",
      " traced_script_module saved! \n",
      " model is traced! \n",
      "\n",
      "1/1: 0...  success (640x480 at 30.00 FPS).\n",
      "\n",
      "0: 1 person, Done. (26.0ms) Inference, (1.0ms) NMS\n",
      "0: 1 person, Done. (22.0ms) Inference, (2.0ms) NMS\n",
      "0: 1 person, Done. (27.0ms) Inference, (1.0ms) NMS\n",
      "0: 1 person, Done. (27.0ms) Inference, (2.0ms) NMS\n",
      "0: 1 person, Done. (33.0ms) Inference, (4.1ms) NMS\n",
      "0: 1 person, Done. (26.0ms) Inference, (2.0ms) NMS\n",
      "0: 1 person, Done. (31.0ms) Inference, (2.0ms) NMS\n",
      "0: 1 person, Done. (24.0ms) Inference, (2.0ms) NMS\n",
      "0: 1 person, Done. (20.0ms) Inference, (2.0ms) NMS\n",
      "0: 1 person, Done. (28.0ms) Inference, (2.0ms) NMS\n",
      "0: 1 person, Done. (18.0ms) Inference, (2.5ms) NMS\n",
      "0: 1 person, Done. (21.0ms) Inference, (2.0ms) NMS\n",
      "0: 1 person, Done. (20.6ms) Inference, (1.9ms) NMS\n",
      "0: 1 person, Done. (22.0ms) Inference, (2.0ms) NMS\n",
      "0: 1 person, Done. (24.0ms) Inference, (1.0ms) NMS\n",
      "0: 1 person, Done. (22.0ms) Inference, (3.0ms) NMS\n",
      "0: 1 person, Done. (22.0ms) Inference, (2.0ms) NMS\n",
      "0: 1 person, Done. (23.0ms) Inference, (3.0ms) NMS\n",
      "0: 1 person, Done. (25.0ms) Inference, (2.0ms) NMS\n",
      "0: 1 person, Done. (20.0ms) Inference, (2.0ms) NMS\n",
      "0: 1 person, Done. (23.0ms) Inference, (3.0ms) NMS\n",
      "0: 1 person, Done. (17.0ms) Inference, (2.0ms) NMS\n",
      "0: 1 person, Done. (27.3ms) Inference, (2.0ms) NMS\n",
      "0: 1 person, Done. (18.0ms) Inference, (2.0ms) NMS\n",
      "0: 1 person, Done. (23.0ms) Inference, (2.0ms) NMS\n",
      "0: 1 person, Done. (18.0ms) Inference, (2.0ms) NMS\n",
      "0: 1 person, Done. (20.0ms) Inference, (2.0ms) NMS\n",
      "0: 1 person, Done. (22.0ms) Inference, (2.0ms) NMS\n",
      "0: 1 person, Done. (22.1ms) Inference, (2.0ms) NMS\n",
      "0: 1 person, Done. (24.0ms) Inference, (2.0ms) NMS\n",
      "0: 1 person, Done. (39.1ms) Inference, (4.0ms) NMS\n",
      "0: 1 person, Done. (37.0ms) Inference, (2.0ms) NMS\n",
      "0: 1 person, Done. (35.5ms) Inference, (3.0ms) NMS\n",
      "0: 1 person, Done. (19.0ms) Inference, (1.0ms) NMS\n",
      "0: 1 person, Done. (30.0ms) Inference, (2.0ms) NMS\n",
      "0: 1 person, Done. (30.1ms) Inference, (3.0ms) NMS\n",
      "0: 1 person, Done. (30.0ms) Inference, (3.0ms) NMS\n",
      "0: 1 person, Done. (26.1ms) Inference, (3.0ms) NMS\n",
      "0: 1 person, Done. (26.0ms) Inference, (2.0ms) NMS\n",
      "0: 1 person, Done. (25.5ms) Inference, (2.0ms) NMS\n",
      "0: 1 person, Done. (20.0ms) Inference, (1.0ms) NMS\n",
      "0: 1 person, Done. (20.0ms) Inference, (1.0ms) NMS\n",
      "0: 1 person, Done. (27.0ms) Inference, (2.0ms) NMS\n",
      "0: 1 person, Done. (18.0ms) Inference, (2.0ms) NMS\n",
      "0: 1 person, Done. (23.0ms) Inference, (2.0ms) NMS\n",
      "0: 1 person, Done. (20.0ms) Inference, (2.0ms) NMS\n",
      "0: 1 person, Done. (21.0ms) Inference, (2.0ms) NMS\n",
      "0: 1 person, Done. (19.0ms) Inference, (1.0ms) NMS\n",
      "0: 1 person, Done. (23.5ms) Inference, (3.0ms) NMS\n",
      "0: 1 person, Done. (22.0ms) Inference, (2.0ms) NMS\n",
      "0: 1 person, Done. (27.0ms) Inference, (3.0ms) NMS\n",
      "0: 1 person, Done. (34.0ms) Inference, (3.0ms) NMS\n",
      "0: 1 person, Done. (21.0ms) Inference, (2.0ms) NMS\n",
      "0: 1 person, Done. (22.0ms) Inference, (2.0ms) NMS\n",
      "0: 1 person, Done. (21.0ms) Inference, (2.0ms) NMS\n",
      "0: 1 person, Done. (20.5ms) Inference, (2.0ms) NMS\n",
      "0: 1 person, Done. (20.0ms) Inference, (2.0ms) NMS\n",
      "0: 1 person, Done. (53.5ms) Inference, (6.0ms) NMS\n",
      "0: 1 person, Done. (22.5ms) Inference, (2.0ms) NMS\n",
      "0: 1 person, Done. (22.0ms) Inference, (2.0ms) NMS\n",
      "0: 1 person, Done. (27.0ms) Inference, (2.0ms) NMS\n",
      "0: 1 person, Done. (20.5ms) Inference, (2.0ms) NMS\n",
      "0: 1 person, Done. (25.0ms) Inference, (2.0ms) NMS\n",
      "0: 1 person, Done. (25.0ms) Inference, (2.0ms) NMS\n",
      "0: 1 person, Done. (20.0ms) Inference, (4.0ms) NMS\n",
      "0: 1 person, Done. (25.0ms) Inference, (2.0ms) NMS\n",
      "0: 1 person, Done. (25.0ms) Inference, (2.0ms) NMS\n",
      "0: 1 person, Done. (26.0ms) Inference, (2.0ms) NMS\n",
      "0: 1 person, Done. (21.0ms) Inference, (1.0ms) NMS\n",
      "0: 1 person, Done. (19.5ms) Inference, (2.0ms) NMS\n",
      "0: 1 person, Done. (27.0ms) Inference, (3.0ms) NMS\n",
      "0: 1 person, Done. (36.5ms) Inference, (3.0ms) NMS\n",
      "0: 1 person, Done. (39.0ms) Inference, (3.0ms) NMS\n",
      "0: 1 person, Done. (23.0ms) Inference, (2.0ms) NMS\n",
      "Done. (3.641s)\n"
     ]
    }
   ],
   "source": [
    "# click on the button to start danger zone selection or detection (press q to exit)\n",
    "VBox(children=[x0_slider,x1_slider,y0_slider,y1_slider,button2,button])"
   ]
  },
  {
   "cell_type": "code",
   "execution_count": null,
   "metadata": {},
   "outputs": [],
   "source": []
  }
 ],
 "metadata": {
  "kernelspec": {
   "display_name": "Python 3 (ipykernel)",
   "language": "python",
   "name": "python3"
  },
  "language_info": {
   "codemirror_mode": {
    "name": "ipython",
    "version": 3
   },
   "file_extension": ".py",
   "mimetype": "text/x-python",
   "name": "python",
   "nbconvert_exporter": "python",
   "pygments_lexer": "ipython3",
   "version": "3.8.13"
  },
  "vscode": {
   "interpreter": {
    "hash": "e1c7007664601f91116162b1c667487c8601f97466f4133fa9b81ee421c99c9d"
   }
  }
 },
 "nbformat": 4,
 "nbformat_minor": 2
}
